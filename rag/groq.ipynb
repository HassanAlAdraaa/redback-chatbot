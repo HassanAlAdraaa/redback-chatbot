{
  "nbformat": 4,
  "nbformat_minor": 0,
  "metadata": {
    "colab": {
      "provenance": []
    },
    "kernelspec": {
      "name": "python3",
      "display_name": "Python 3"
    },
    "language_info": {
      "name": "python"
    }
  },
  "cells": [
    {
      "cell_type": "markdown",
      "source": [
        "# Testing Groq API\n"
      ],
      "metadata": {
        "id": "F6d9iPirsgId"
      }
    },
    {
      "cell_type": "code",
      "source": [
        "!pip install groq"
      ],
      "metadata": {
        "colab": {
          "base_uri": "https://localhost:8080/"
        },
        "id": "oJKRSOOh-TMM",
        "outputId": "db42dcbf-b726-40d0-a425-4ccc6d46d2b4",
        "collapsed": true
      },
      "execution_count": null,
      "outputs": [
        {
          "output_type": "stream",
          "name": "stdout",
          "text": [
            "Collecting groq\n",
            "  Downloading groq-0.9.0-py3-none-any.whl.metadata (13 kB)\n",
            "Requirement already satisfied: anyio<5,>=3.5.0 in /usr/local/lib/python3.10/dist-packages (from groq) (3.7.1)\n",
            "Requirement already satisfied: distro<2,>=1.7.0 in /usr/lib/python3/dist-packages (from groq) (1.7.0)\n",
            "Collecting httpx<1,>=0.23.0 (from groq)\n",
            "  Downloading httpx-0.27.0-py3-none-any.whl.metadata (7.2 kB)\n",
            "Requirement already satisfied: pydantic<3,>=1.9.0 in /usr/local/lib/python3.10/dist-packages (from groq) (2.8.2)\n",
            "Requirement already satisfied: sniffio in /usr/local/lib/python3.10/dist-packages (from groq) (1.3.1)\n",
            "Requirement already satisfied: typing-extensions<5,>=4.7 in /usr/local/lib/python3.10/dist-packages (from groq) (4.12.2)\n",
            "Requirement already satisfied: idna>=2.8 in /usr/local/lib/python3.10/dist-packages (from anyio<5,>=3.5.0->groq) (3.7)\n",
            "Requirement already satisfied: exceptiongroup in /usr/local/lib/python3.10/dist-packages (from anyio<5,>=3.5.0->groq) (1.2.2)\n",
            "Requirement already satisfied: certifi in /usr/local/lib/python3.10/dist-packages (from httpx<1,>=0.23.0->groq) (2024.7.4)\n",
            "Collecting httpcore==1.* (from httpx<1,>=0.23.0->groq)\n",
            "  Downloading httpcore-1.0.5-py3-none-any.whl.metadata (20 kB)\n",
            "Collecting h11<0.15,>=0.13 (from httpcore==1.*->httpx<1,>=0.23.0->groq)\n",
            "  Downloading h11-0.14.0-py3-none-any.whl.metadata (8.2 kB)\n",
            "Requirement already satisfied: annotated-types>=0.4.0 in /usr/local/lib/python3.10/dist-packages (from pydantic<3,>=1.9.0->groq) (0.7.0)\n",
            "Requirement already satisfied: pydantic-core==2.20.1 in /usr/local/lib/python3.10/dist-packages (from pydantic<3,>=1.9.0->groq) (2.20.1)\n",
            "Downloading groq-0.9.0-py3-none-any.whl (103 kB)\n",
            "\u001b[2K   \u001b[90m━━━━━━━━━━━━━━━━━━━━━━━━━━━━━━━━━━━━━━━━\u001b[0m \u001b[32m103.5/103.5 kB\u001b[0m \u001b[31m2.2 MB/s\u001b[0m eta \u001b[36m0:00:00\u001b[0m\n",
            "\u001b[?25hDownloading httpx-0.27.0-py3-none-any.whl (75 kB)\n",
            "\u001b[2K   \u001b[90m━━━━━━━━━━━━━━━━━━━━━━━━━━━━━━━━━━━━━━━━\u001b[0m \u001b[32m75.6/75.6 kB\u001b[0m \u001b[31m4.5 MB/s\u001b[0m eta \u001b[36m0:00:00\u001b[0m\n",
            "\u001b[?25hDownloading httpcore-1.0.5-py3-none-any.whl (77 kB)\n",
            "\u001b[2K   \u001b[90m━━━━━━━━━━━━━━━━━━━━━━━━━━━━━━━━━━━━━━━━\u001b[0m \u001b[32m77.9/77.9 kB\u001b[0m \u001b[31m4.6 MB/s\u001b[0m eta \u001b[36m0:00:00\u001b[0m\n",
            "\u001b[?25hDownloading h11-0.14.0-py3-none-any.whl (58 kB)\n",
            "\u001b[2K   \u001b[90m━━━━━━━━━━━━━━━━━━━━━━━━━━━━━━━━━━━━━━━━\u001b[0m \u001b[32m58.3/58.3 kB\u001b[0m \u001b[31m3.4 MB/s\u001b[0m eta \u001b[36m0:00:00\u001b[0m\n",
            "\u001b[?25hInstalling collected packages: h11, httpcore, httpx, groq\n",
            "Successfully installed groq-0.9.0 h11-0.14.0 httpcore-1.0.5 httpx-0.27.0\n"
          ]
        }
      ]
    },
    {
      "cell_type": "code",
      "source": [
        "from groq import Groq\n",
        "import os\n",
        "\n",
        "client = Groq(\n",
        "    api_key= os.environ.get(\"GROQ_API_KEY\")\n",
        ")\n",
        "\n",
        "chat_completion = client.chat.completions.create(\n",
        "    messages=[\n",
        "        {\n",
        "            \"role\": \"user\",\n",
        "            \"content\": \"\"\"what kind of questions about\n",
        "            health elderlies are likely to ask a chatbot?\"\"\",\n",
        "        }\n",
        "    ],\n",
        "    model=\"llama3-8b-8192\",\n",
        ")\n",
        "\n",
        "print(chat_completion.choices[0].message.content)"
      ],
      "metadata": {
        "colab": {
          "base_uri": "https://localhost:8080/"
        },
        "id": "uKWSSqqg-WIS",
        "outputId": "49dab4a9-9e35-4d32-aa39-d5291e8d3356"
      },
      "execution_count": null,
      "outputs": [
        {
          "output_type": "stream",
          "name": "stdout",
          "text": [
            "Elderlies may ask a chatbot various questions related to their health and wellness, including:\n",
            "\n",
            "1. **Symptom checking**: \"What could be causing these symptoms I'm experiencing?\" (e.g., joint pain, difficulty sleeping, memory loss)\n",
            "2. **Treatment and medication**: \"What are my treatment options for [condition]?\" or \"What are the side effects of [medication]?\"\n",
            "3. **Health monitoring**: \"How can I monitor my health at home?\" or \"What are some simple tests I can do to check my [blood pressure, blood sugar, etc.]?\"\n",
            "4. **Preventive care**: \"How can I prevent [condition]?\" or \"What are some ways to keep my [heart, bones, etc.] healthy?\"\n",
            "5. **Daily living**: \"How can I manage my daily activities with [chronic condition]?\" or \"What are some tips for maintaining my independence?\"\n",
            "6. **Nutrition and diet**: \"What are some healthy meal options for [condition]?\" or \"Can you help me create a meal plan?\"\n",
            "7. **Exercise and physical activity**: \"What are some exercises that can help with [pain management, flexibility, etc.]?\" or \"What are some low-impact activities I can do?\"\n",
            "8. **Mental health**: \"How can I manage my stress?\" or \"What are some coping mechanisms for [mental health condition]?\"\n",
            "9. **Caregiving and support**: \"How can I help my [spouse, family member, friend] with [condition]?\" or \"What are some resources for caregivers?\"\n",
            "10. **Health insurance and billing**: \"How do I navigate my health insurance?\" or \"What are the costs associated with [treatment, medication, etc.]?\"\n",
            "11. **Travel and tourism**: \"What are some health considerations when traveling?\" or \"How can I prepare for traveling with [medical condition]?\"\n",
            "12. **Wellness and relaxation**: \"What are some relaxation techniques for [stress, anxiety, etc.]?\" or \"What are some healthy habits for a good night's sleep?\"\n",
            "13. **Medical devices and equipment**: \"How do I use my [CPAP machine, oxygen tank, etc.]?\" or \"What are some tips for maintaining my [prosthetic, orthotic, etc.]?\"\n",
            "14. **Communication with healthcare providers**: \"How can I effectively communicate with my healthcare provider?\" or \"What are some questions I should ask my doctor?\"\n",
            "15. **Emergency preparedness**: \"What are the steps I should take in case of an emergency?\" or \"What are some emergency contact numbers I should have handy?\"\n",
            "\n",
            "These questions can serve as a starting point for designing a chatbot that can effectively assist elderlies with their health-related queries.\n"
          ]
        }
      ]
    }
  ]
}